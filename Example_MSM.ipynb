{
 "cells": [
  {
   "cell_type": "markdown",
   "metadata": {},
   "source": [
    "# 部分空间法 -- MSM和KMSM"
   ]
  },
  {
   "cell_type": "markdown",
   "metadata": {},
   "source": [
    "## 数据预处理"
   ]
  },
  {
   "cell_type": "code",
   "execution_count": 1,
   "metadata": {},
   "outputs": [],
   "source": [
    "from scipy import io\n",
    "import numpy as np\n",
    "mat = io.loadmat(\"../sample_dataset/doubutsu.mat\")\n",
    "\n",
    "%load_ext autoreload\n",
    "%autoreload 2"
   ]
  },
  {
   "cell_type": "code",
   "execution_count": 2,
   "metadata": {},
   "outputs": [
    {
     "name": "stdout",
     "output_type": "stream",
     "text": [
      "dict_keys(['__header__', '__version__', '__globals__', 'test', 'trai'])\n"
     ]
    }
   ],
   "source": [
    "print(mat.keys())\n",
    "X_train = []\n",
    "y_train = []\n",
    "for i in range(mat['trai'].shape[1]):\n",
    "    X_train.append(np.squeeze(mat['trai'][0,i][0].T))\n",
    "    y_train.append(np.squeeze(mat['trai'][0,i][1]))\n",
    "                      \n",
    "X_test = []\n",
    "y_test = []\n",
    "for i in range(mat['test'].shape[1]):\n",
    "    X_test.append(np.squeeze(mat['test'][0,i][0].T))\n",
    "    y_test.append(np.squeeze(mat['test'][0,i][1]))"
   ]
  },
  {
   "cell_type": "markdown",
   "metadata": {},
   "source": [
    "## MSM分类器模型"
   ]
  },
  {
   "cell_type": "code",
   "execution_count": 3,
   "metadata": {},
   "outputs": [
    {
     "data": {
      "text/plain": [
       "0.693939393939394"
      ]
     },
     "execution_count": 3,
     "metadata": {},
     "output_type": "execute_result"
    }
   ],
   "source": [
    "from msm import MSM\n",
    "params = {'n_dimension_dict': 5, 'n_dimension_query': 5,'is_normalize':False}\n",
    "model = MSM(params)\n",
    "model.fit(X_train,y_train)\n",
    "model.score(X_test,y_test)"
   ]
  },
  {
   "cell_type": "markdown",
   "metadata": {},
   "source": [
    "## 在验证集调参 "
   ]
  },
  {
   "cell_type": "code",
   "execution_count": 4,
   "metadata": {},
   "outputs": [],
   "source": [
    "from sklearn.model_selection import ParameterGrid\n",
    "param_grid = {'n_dimension_dict': [3,4,5,6], 'n_dimension_query': [2,3,4,5,6],'is_normalize':[True, False]}\n",
    "parameters = list(ParameterGrid(param_grid))"
   ]
  },
  {
   "cell_type": "code",
   "execution_count": 5,
   "metadata": {},
   "outputs": [],
   "source": [
    "scores = [MSM(args).fit(X_train, y_train).score(X_test,y_test) for args in parameters]"
   ]
  },
  {
   "cell_type": "code",
   "execution_count": 14,
   "metadata": {},
   "outputs": [
    {
     "name": "stdout",
     "output_type": "stream",
     "text": [
      "best accuracy is 0.7424242424242424 \n",
      "best parameters setting is: {'is_normalize': False, 'n_dimension_dict': 4, 'n_dimension_query': 5}\n"
     ]
    }
   ],
   "source": [
    "print(\"best accuracy is\",np.array(scores).max(),\"\\nbest parameters setting is:\",parameters[np.argmax(scores)],)"
   ]
  }
 ],
 "metadata": {
  "kernelspec": {
   "display_name": "Python 3",
   "language": "python",
   "name": "python3"
  },
  "language_info": {
   "codemirror_mode": {
    "name": "ipython",
    "version": 3
   },
   "file_extension": ".py",
   "mimetype": "text/x-python",
   "name": "python",
   "nbconvert_exporter": "python",
   "pygments_lexer": "ipython3",
   "version": "3.7.3"
  }
 },
 "nbformat": 4,
 "nbformat_minor": 2
}
